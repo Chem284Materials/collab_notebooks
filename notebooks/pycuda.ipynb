{
  "nbformat": 4,
  "nbformat_minor": 0,
  "metadata": {
    "colab": {
      "provenance": [],
      "gpuType": "T4"
    },
    "kernelspec": {
      "name": "python3",
      "display_name": "Python 3"
    },
    "language_info": {
      "name": "python"
    },
    "accelerator": "GPU"
  },
  "cells": [
    {
      "cell_type": "code",
      "source": [
        "!pip install pycuda"
      ],
      "metadata": {
        "id": "g7SjciAfnzHZ"
      },
      "execution_count": null,
      "outputs": []
    },
    {
      "cell_type": "code",
      "source": [
        "import numpy as np\n",
        "import pycuda.autoinit\n",
        "from pycuda import gpuarray\n",
        "from pycuda.elementwise import ElementwiseKernel\n",
        "from pycuda.compiler import SourceModule\n",
        "\n",
        "# Create an initial array to do some work with\n",
        "data = np.array([1, 2, 3, 4, 5], dtype=np.float32)\n",
        "data_gpu = gpuarray.to_gpu(data)\n",
        "\n",
        "# Create an array to hold the output data\n",
        "# \"empty_like\" creates an empty array of the same size and shape as another\n",
        "result_gpu = gpuarray.empty_like(data_gpu)\n",
        "\n",
        "cuda_module = SourceModule(\"\"\"\n",
        "__global__ void scalar_math(float *input, float *result) {\n",
        "  result[threadIdx.x] = ( 10 * input[threadIdx.x] ) + 1;\n",
        "}\n",
        "\n",
        "__global__ void scalar_math2(float *input, float *result, float add) {\n",
        "  result[threadIdx.x] = ( 10 * input[threadIdx.x] ) + add;\n",
        "}\n",
        "\"\"\")\n",
        "scalar_math = cuda_module.get_function(\"scalar_math\")\n",
        "\n",
        "# Do the calculation on the GPU\n",
        "scalar_math( data_gpu, result_gpu, block=(5,1,1) )\n",
        "\n",
        "# Get the result back\n",
        "result = result_gpu.get()\n",
        "print(f\"Result of scalar_math():  {result}\")"
      ],
      "metadata": {
        "id": "PKSs9XhonmIq"
      },
      "execution_count": null,
      "outputs": []
    }
  ]
}